{
 "cells": [
  {
   "cell_type": "code",
   "execution_count": 2,
   "metadata": {
    "collapsed": true
   },
   "outputs": [
    {
     "name": "stdout",
     "output_type": "stream",
     "text": [
      "hello\n",
      "olleh\n",
      "2\n"
     ]
    }
   ],
   "source": [
    "print(\"hello\")\n",
    "\n",
    "a = \"hello\"\n",
    "b = list(a)\n",
    "print(a[::-1])\n",
    "print(7//3)"
   ]
  },
  {
   "cell_type": "code",
   "execution_count": 1,
   "outputs": [],
   "source": [
    "# reverse string\n",
    "\n",
    "class Solution:\n",
    "    def reverseVowels(self, s: str) -> str:\n",
    "        vovels = [\"a\",\"e\",\"i\",\"o\",\"u\",\"A\",\"E\",\"I\",\"O\",\"U\"]\n",
    "        s = list(s)\n",
    "        def rev(left,right):\n",
    "            if left<right:\n",
    "                if s[left] in vovels:\n",
    "                    if s[right] in vovels:\n",
    "                        s[left],s[right]= s[right],s[left]\n",
    "                        rev(left+1,right-1)\n",
    "                    else:\n",
    "                        rev(left,right-1)\n",
    "                else:\n",
    "                    rev(left+1,right)\n",
    "            else:\n",
    "                return s\n",
    "\n",
    "        rev(0,len(s)-1)\n",
    "        return \"\".join(s)"
   ],
   "metadata": {
    "collapsed": false,
    "pycharm": {
     "name": "#%%\n"
    }
   }
  }
 ],
 "metadata": {
  "kernelspec": {
   "display_name": "Python 3",
   "language": "python",
   "name": "python3"
  },
  "language_info": {
   "codemirror_mode": {
    "name": "ipython",
    "version": 2
   },
   "file_extension": ".py",
   "mimetype": "text/x-python",
   "name": "python",
   "nbconvert_exporter": "python",
   "pygments_lexer": "ipython2",
   "version": "2.7.6"
  }
 },
 "nbformat": 4,
 "nbformat_minor": 0
}