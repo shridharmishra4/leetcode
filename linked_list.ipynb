{
 "cells": [
  {
   "cell_type": "code",
   "execution_count": 8,
   "metadata": {
    "collapsed": true
   },
   "outputs": [
    {
     "name": "stdout",
     "output_type": "stream",
     "text": [
      "{2, 3, 4}\n"
     ]
    }
   ],
   "source": [
    "a = [1,1,2,3,4]\n",
    "a.count(1)\n",
    "dic = {}\n",
    "for items in a:\n",
    "    dic.update({items:a.count(items)})\n",
    "\n",
    "print(dic.keys()-[1])"
   ]
  },
  {
   "cell_type": "code",
   "execution_count": 1,
   "outputs": [],
   "source": [
    "# reverse string\n",
    "\n",
    "class Solution:\n",
    "    def reverseVowels(self, s: str) -> str:\n",
    "        vovels = [\"a\",\"e\",\"i\",\"o\",\"u\",\"A\",\"E\",\"I\",\"O\",\"U\"]\n",
    "        s = list(s)\n",
    "        def rev(left,right):\n",
    "            if left<right:\n",
    "                if s[left] in vovels:\n",
    "                    if s[right] in vovels:\n",
    "                        s[left],s[right]= s[right],s[left]\n",
    "                        rev(left+1,right-1)\n",
    "                    else:\n",
    "                        rev(left,right-1)\n",
    "                else:\n",
    "                    rev(left+1,right)\n",
    "            else:\n",
    "                return s\n",
    "\n",
    "        rev(0,len(s)-1)\n",
    "        return \"\".join(s)"
   ],
   "metadata": {
    "collapsed": false,
    "pycharm": {
     "name": "#%%\n"
    }
   }
  },
  {
   "cell_type": "code",
   "execution_count": 6,
   "outputs": [
    {
     "name": "stdout",
     "output_type": "stream",
     "text": [
      "testemail\n"
     ]
    }
   ],
   "source": [
    "class Solution:\n",
    "    def numUniqueEmails(self, emails: List[str]) -> int:\n",
    "\n",
    "        uniqueset = set()\n",
    "\n",
    "        for email in emails:\n",
    "            a = email.split(\"@\")\n",
    "            localname,domain = a[0],a[1]\n",
    "            local_name_without_plus = localname.split(\"+\")[0]\n",
    "\n",
    "            if \".\" in local_name_without_plus:\n",
    "                uniqueset.add(local_name_without_plus.replace(\".\",\"\")+\"@\"+domain)\n",
    "\n",
    "            else:\n",
    "                uniqueset.add(local_name_without_plus+\"@\"+domain)\n",
    "        # print(set(unique))\n",
    "        return(len(uniqueset))\n"
   ],
   "metadata": {
    "collapsed": false,
    "pycharm": {
     "name": "#%%\n"
    }
   }
  },
  {
   "cell_type": "code",
   "execution_count": null,
   "outputs": [],
   "source": [],
   "metadata": {
    "collapsed": false,
    "pycharm": {
     "name": "#%%\n"
    }
   }
  }
 ],
 "metadata": {
  "kernelspec": {
   "display_name": "Python 3",
   "language": "python",
   "name": "python3"
  },
  "language_info": {
   "codemirror_mode": {
    "name": "ipython",
    "version": 2
   },
   "file_extension": ".py",
   "mimetype": "text/x-python",
   "name": "python",
   "nbconvert_exporter": "python",
   "pygments_lexer": "ipython2",
   "version": "2.7.6"
  }
 },
 "nbformat": 4,
 "nbformat_minor": 0
}