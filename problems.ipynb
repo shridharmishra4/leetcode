{
 "cells": [
  {
   "cell_type": "code",
   "execution_count": 8,
   "metadata": {
    "collapsed": true
   },
   "outputs": [
    {
     "name": "stdout",
     "output_type": "stream",
     "text": [
      "{2, 3, 4}\n"
     ]
    }
   ],
   "source": [
    "a = [1,1,2,3,4]\n",
    "a.count(1)\n",
    "dic = {}\n",
    "for items in a:\n",
    "    dic.update({items:a.count(items)})\n",
    "\n",
    "print(dic.keys()-[1])"
   ]
  },
  {
   "cell_type": "code",
   "execution_count": 1,
   "outputs": [],
   "source": [
    "# reverse string\n",
    "\n",
    "class Solution:\n",
    "    def reverseVowels(self, s: str) -> str:\n",
    "        vovels = [\"a\",\"e\",\"i\",\"o\",\"u\",\"A\",\"E\",\"I\",\"O\",\"U\"]\n",
    "        s = list(s)\n",
    "        def rev(left,right):\n",
    "            if left<right:\n",
    "                if s[left] in vovels:\n",
    "                    if s[right] in vovels:\n",
    "                        s[left],s[right]= s[right],s[left]\n",
    "                        rev(left+1,right-1)\n",
    "                    else:\n",
    "                        rev(left,right-1)\n",
    "                else:\n",
    "                    rev(left+1,right)\n",
    "            else:\n",
    "                return s\n",
    "\n",
    "        rev(0,len(s)-1)\n",
    "        return \"\".join(s)"
   ],
   "metadata": {
    "collapsed": false,
    "pycharm": {
     "name": "#%%\n"
    }
   }
  },
  {
   "cell_type": "code",
   "execution_count": 6,
   "outputs": [
    {
     "name": "stdout",
     "output_type": "stream",
     "text": [
      "testemail\n"
     ]
    }
   ],
   "source": [
    "class Solution:\n",
    "    def numUniqueEmails(self, emails: List[str]) -> int:\n",
    "\n",
    "        uniqueset = set()\n",
    "\n",
    "        for email in emails:\n",
    "            a = email.split(\"@\")\n",
    "            localname,domain = a[0],a[1]\n",
    "            local_name_without_plus = localname.split(\"+\")[0]\n",
    "\n",
    "            if \".\" in local_name_without_plus:\n",
    "                uniqueset.add(local_name_without_plus.replace(\".\",\"\")+\"@\"+domain)\n",
    "\n",
    "            else:\n",
    "                uniqueset.add(local_name_without_plus\n",
    "                              +\"@\"+domain)\n",
    "        # print(set(unique))\n",
    "        return(len(uniqueset))\n"
   ],
   "metadata": {
    "collapsed": false,
    "pycharm": {
     "name": "#%%\n"
    }
   }
  },
  {
   "cell_type": "code",
   "execution_count": null,
   "outputs": [],
   "source": [
    "class Solution:\n",
    "    def isValid(self, s: str) -> bool:\n",
    "        stack = []\n",
    "        i=0\n",
    "        n = len(s)\n",
    "        conjugate = {\")\":\"(\",\"}\":\"{\",\"]\":\"[\"}\n",
    "        if len(s) == 1:\n",
    "            return False\n",
    "        if len(s)%2 != 0:\n",
    "            return False\n",
    "\n",
    "        while i<n:\n",
    "            if s[i] in conjugate.values():\n",
    "                stack.append(s[i])\n",
    "\n",
    "            if len(stack)>0:\n",
    "                if s[i] in conjugate.keys():\n",
    "                    if stack[-1] ==  conjugate[s[i]]:\n",
    "                        stack.pop()\n",
    "                    else:\n",
    "                        return False\n",
    "            else:\n",
    "                return False\n",
    "            i+=1\n",
    "\n",
    "        if len(stack)==0:\n",
    "            return True\n",
    "        else:\n",
    "            return False"
   ],
   "metadata": {
    "collapsed": false,
    "pycharm": {
     "name": "#%%\n"
    }
   }
  },
  {
   "cell_type": "code",
   "execution_count": 1,
   "outputs": [
    {
     "name": "stdout",
     "output_type": "stream",
     "text": [
      "1.2\n"
     ]
    }
   ],
   "source": [
    "# Reverse linked list\n",
    "# Definition for singly-linked list.\n",
    "class ListNode:\n",
    "    def __init__(self, val=0, next=None):\n",
    "        self.val = val\n",
    "        self.next = next\n",
    "# class Solution_1:\n",
    "#     def reverseList(self, head: ListNode) -> ListNode:\n",
    "\n",
    "#         rev = []\n",
    "#         new_head = ListNode()\n",
    "#         ans = new_head\n",
    "#         while head:\n",
    "#             rev.append(head.val)\n",
    "#             head = head.next\n",
    "#         for i in range(len(rev)):\n",
    "#             newnode = ListNode(rev.pop())\n",
    "#             new_head.next = newnode\n",
    "#             new_head = new_head.next\n",
    "#         return ans.next\n",
    "\n",
    "# class Solution:\n",
    "#     def reverseList(self, head: ListNode) -> ListNode:\n",
    "\n",
    "#         prev = None\n",
    "#         curr = head\n",
    "#         while curr:\n",
    "#             nxt = curr.next\n",
    "#             curr.next = prev\n",
    "#             prev = curr\n",
    "#             curr = nxt\n",
    "\n",
    "#         return prev\n",
    "\n",
    "class Solution:\n",
    "\n",
    "\n",
    "    def reverseList(self, head: ListNode) -> ListNode:\n",
    "        if not head.next or not head:\n",
    "            return head\n",
    "        a = self.reverseList(head.next)\n",
    "        head.next.next = head\n",
    "        head.next = None\n",
    "\n",
    "\n",
    "        return a"
   ],
   "metadata": {
    "collapsed": false,
    "pycharm": {
     "name": "#%%\n"
    }
   }
  },
  {
   "cell_type": "code",
   "execution_count": null,
   "outputs": [],
   "source": [
    "    def deleteNode(self, node):\n",
    "        \"\"\"\n",
    "        :type node: ListNode\n",
    "        :rtype: void Do not return anything, modify node in-place instead.\n",
    "        \"\"\"\n",
    "        node.val = node.next.val\n",
    "        node.next = node.next.next\n",
    "\n",
    "\n",
    "        return"
   ],
   "metadata": {
    "collapsed": false,
    "pycharm": {
     "name": "#%%\n"
    }
   }
  },
  {
   "cell_type": "code",
   "execution_count": 1,
   "outputs": [
    {
     "ename": "NameError",
     "evalue": "name 'ListNode' is not defined",
     "output_type": "error",
     "traceback": [
      "\u001B[0;31m---------------------------------------------------------------------------\u001B[0m",
      "\u001B[0;31mNameError\u001B[0m                                 Traceback (most recent call last)",
      "\u001B[0;32m<ipython-input-1-49a523b9bf65>\u001B[0m in \u001B[0;36m<module>\u001B[0;34m\u001B[0m\n\u001B[0;32m----> 1\u001B[0;31m \u001B[0;32mclass\u001B[0m \u001B[0mSolution\u001B[0m\u001B[0;34m:\u001B[0m\u001B[0;34m\u001B[0m\u001B[0;34m\u001B[0m\u001B[0m\n\u001B[0m\u001B[1;32m      2\u001B[0m     \u001B[0;32mdef\u001B[0m \u001B[0mremoveElements\u001B[0m\u001B[0;34m(\u001B[0m\u001B[0mself\u001B[0m\u001B[0;34m,\u001B[0m \u001B[0mhead\u001B[0m\u001B[0;34m:\u001B[0m \u001B[0mListNode\u001B[0m\u001B[0;34m,\u001B[0m \u001B[0mval\u001B[0m\u001B[0;34m:\u001B[0m \u001B[0mint\u001B[0m\u001B[0;34m)\u001B[0m \u001B[0;34m->\u001B[0m \u001B[0mListNode\u001B[0m\u001B[0;34m:\u001B[0m\u001B[0;34m\u001B[0m\u001B[0;34m\u001B[0m\u001B[0m\n\u001B[1;32m      3\u001B[0m \u001B[0;34m\u001B[0m\u001B[0m\n\u001B[1;32m      4\u001B[0m         \u001B[0mprev\u001B[0m \u001B[0;34m=\u001B[0m\u001B[0mhead_node\u001B[0m\u001B[0;34m=\u001B[0m \u001B[0mListNode\u001B[0m\u001B[0;34m(\u001B[0m\u001B[0;34m\"#\"\u001B[0m\u001B[0;34m)\u001B[0m\u001B[0;34m\u001B[0m\u001B[0;34m\u001B[0m\u001B[0m\n\u001B[1;32m      5\u001B[0m         \u001B[0mhead_node\u001B[0m\u001B[0;34m.\u001B[0m\u001B[0mnext\u001B[0m \u001B[0;34m=\u001B[0m \u001B[0mhead\u001B[0m\u001B[0;34m\u001B[0m\u001B[0;34m\u001B[0m\u001B[0m\n",
      "\u001B[0;32m<ipython-input-1-49a523b9bf65>\u001B[0m in \u001B[0;36mSolution\u001B[0;34m()\u001B[0m\n\u001B[1;32m      1\u001B[0m \u001B[0;32mclass\u001B[0m \u001B[0mSolution\u001B[0m\u001B[0;34m:\u001B[0m\u001B[0;34m\u001B[0m\u001B[0;34m\u001B[0m\u001B[0m\n\u001B[0;32m----> 2\u001B[0;31m     \u001B[0;32mdef\u001B[0m \u001B[0mremoveElements\u001B[0m\u001B[0;34m(\u001B[0m\u001B[0mself\u001B[0m\u001B[0;34m,\u001B[0m \u001B[0mhead\u001B[0m\u001B[0;34m:\u001B[0m \u001B[0mListNode\u001B[0m\u001B[0;34m,\u001B[0m \u001B[0mval\u001B[0m\u001B[0;34m:\u001B[0m \u001B[0mint\u001B[0m\u001B[0;34m)\u001B[0m \u001B[0;34m->\u001B[0m \u001B[0mListNode\u001B[0m\u001B[0;34m:\u001B[0m\u001B[0;34m\u001B[0m\u001B[0;34m\u001B[0m\u001B[0m\n\u001B[0m\u001B[1;32m      3\u001B[0m \u001B[0;34m\u001B[0m\u001B[0m\n\u001B[1;32m      4\u001B[0m         \u001B[0mprev\u001B[0m \u001B[0;34m=\u001B[0m\u001B[0mhead_node\u001B[0m\u001B[0;34m=\u001B[0m \u001B[0mListNode\u001B[0m\u001B[0;34m(\u001B[0m\u001B[0;34m\"#\"\u001B[0m\u001B[0;34m)\u001B[0m\u001B[0;34m\u001B[0m\u001B[0;34m\u001B[0m\u001B[0m\n\u001B[1;32m      5\u001B[0m         \u001B[0mhead_node\u001B[0m\u001B[0;34m.\u001B[0m\u001B[0mnext\u001B[0m \u001B[0;34m=\u001B[0m \u001B[0mhead\u001B[0m\u001B[0;34m\u001B[0m\u001B[0;34m\u001B[0m\u001B[0m\n",
      "\u001B[0;31mNameError\u001B[0m: name 'ListNode' is not defined"
     ]
    }
   ],
   "source": [
    "class Solution:\n",
    "    def removeElements(self, head: ListNode, val: int) -> ListNode:\n",
    "\n",
    "        prev =head_node= ListNode(\"#\")\n",
    "        head_node.next = head\n",
    "        prev.next = head\n",
    "\n",
    "        while prev.next:\n",
    "\n",
    "            if prev.next.val == val:\n",
    "                prev.next = prev.next.next\n",
    "            else:\n",
    "                prev = prev.next\n",
    "\n",
    "        return head_node.next"
   ],
   "metadata": {
    "collapsed": false,
    "pycharm": {
     "name": "#%%\n"
    }
   }
  },
  {
   "cell_type": "code",
   "execution_count": null,
   "outputs": [],
   "source": [
    "class Solution:\n",
    "    def isSameTree(self, p: TreeNode, q: TreeNode) -> bool:\n",
    "\n",
    "        if not p or not q:\n",
    "            return p == q\n",
    "\n",
    "        def helper(leftnode,rightnode):\n",
    "\n",
    "            if not leftnode or not rightnode:\n",
    "                return leftnode==rightnode\n",
    "            if leftnode.val!=rightnode.val:\n",
    "                return False\n",
    "\n",
    "            return helper(leftnode.left,rightnode.left) and         helper(leftnode.right,rightnode.right)\n",
    "\n",
    "        return helper(p,q)"
   ],
   "metadata": {
    "collapsed": false,
    "pycharm": {
     "name": "#%%\n"
    }
   }
  },
  {
   "cell_type": "code",
   "execution_count": null,
   "outputs": [],
   "source": [
    "# Multiply strings\n",
    "\n",
    "class Solution:\n",
    "    def multiply(self, num1: str, num2: str) -> str:\n",
    "\n",
    "\n",
    "        ascii_a =[ord(i)-48 for i in num1]\n",
    "        ascii_b =[ord(i)-48 for i in num2]\n",
    "\n",
    "        a = 0\n",
    "        for i in range(len(ascii_a)):\n",
    "            a+= ascii_a[len(ascii_a)-i-1] * 10**i\n",
    "\n",
    "        b = 0\n",
    "        for i in range(len(ascii_b)):\n",
    "            b+= ascii_b[len(ascii_b)-i-1] * 10**i\n",
    "\n",
    "        return(str(a*b))"
   ],
   "metadata": {
    "collapsed": false,
    "pycharm": {
     "name": "#%%\n"
    }
   }
  },
  {
   "cell_type": "code",
   "execution_count": null,
   "outputs": [],
   "source": [
    "# 11. Container With Most Water\n",
    "\n",
    "class Solution:\n",
    "    def maxArea(self, height: List[int]) -> int:\n",
    "\n",
    "        max_ar = 0\n",
    "        i = 0\n",
    "        j = len(height)-1\n",
    "\n",
    "        while i<j:\n",
    "\n",
    "            if height[i]<height[j]:\n",
    "                y = height[i]\n",
    "                max_val = y*(j-i)\n",
    "                i+=1\n",
    "            else:\n",
    "                y = height[j]\n",
    "                max_val = y*(j-i)\n",
    "                j-=1\n",
    "            if max_val>max_ar:\n",
    "                max_ar = max_val\n",
    "        return max_ar"
   ],
   "metadata": {
    "collapsed": false,
    "pycharm": {
     "name": "#%%\n"
    }
   }
  },
  {
   "cell_type": "code",
   "execution_count": null,
   "outputs": [],
   "source": [
    "class Solution:\n",
    "    def isPalindrome_(self, x: int) -> bool:\n",
    "        if str(x)==str(x)[::-1]:\n",
    "            return True\n",
    "        else:\n",
    "            return False\n",
    "\n",
    "    def isPalindrome(self, x: int) -> bool:\n",
    "        if x<0:\n",
    "            return False\n",
    "\n",
    "        if x == self.rev(x):\n",
    "            return True\n",
    "        else:\n",
    "            return False\n",
    "\n",
    "\n",
    "\n",
    "    def rev(self,num):\n",
    "        res = 0\n",
    "        while num:\n",
    "            res = res * 10 + num % 10\n",
    "            num //= 10\n",
    "        return res"
   ],
   "metadata": {
    "collapsed": false,
    "pycharm": {
     "name": "#%%\n"
    }
   }
  },
  {
   "cell_type": "code",
   "execution_count": null,
   "outputs": [],
   "source": [
    "class Solution:\n",
    "    def findKthLargest(self, nums: List[int], k: int) -> int:\n",
    "        return heapq.nlargest(k, nums)[-1]"
   ],
   "metadata": {
    "collapsed": false,
    "pycharm": {
     "name": "#%%\n"
    }
   }
  },
  {
   "cell_type": "code",
   "execution_count": null,
   "outputs": [],
   "source": [
    "class Solution:\n",
    "    def topKFrequent(self, nums: List[int], k: int) -> List[int]:\n",
    "        a = dict(collections.Counter(nums))\n",
    "        tuple_list = [(a[i],i) for i in a.keys()]\n",
    "        return [items[1] for items in heapq.nlargest(k,tuple_list)[:k]]\n"
   ],
   "metadata": {
    "collapsed": false,
    "pycharm": {
     "name": "#%%\n"
    }
   }
  }
 ],
 "metadata": {
  "kernelspec": {
   "display_name": "Python 3",
   "language": "python",
   "name": "python3"
  },
  "language_info": {
   "codemirror_mode": {
    "name": "ipython",
    "version": 2
   },
   "file_extension": ".py",
   "mimetype": "text/x-python",
   "name": "python",
   "nbconvert_exporter": "python",
   "pygments_lexer": "ipython2",
   "version": "2.7.6"
  }
 },
 "nbformat": 4,
 "nbformat_minor": 0
}