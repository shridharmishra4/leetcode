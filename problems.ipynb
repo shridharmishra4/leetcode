{
 "cells": [
  {
   "cell_type": "code",
   "execution_count": 8,
   "metadata": {
    "collapsed": true
   },
   "outputs": [
    {
     "name": "stdout",
     "output_type": "stream",
     "text": [
      "{2, 3, 4}\n"
     ]
    }
   ],
   "source": [
    "a = [1,1,2,3,4]\n",
    "a.count(1)\n",
    "dic = {}\n",
    "for items in a:\n",
    "    dic.update({items:a.count(items)})\n",
    "\n",
    "print(dic.keys()-[1])"
   ]
  },
  {
   "cell_type": "code",
   "execution_count": 1,
   "outputs": [],
   "source": [
    "# reverse string\n",
    "\n",
    "class Solution:\n",
    "    def reverseVowels(self, s: str) -> str:\n",
    "        vovels = [\"a\",\"e\",\"i\",\"o\",\"u\",\"A\",\"E\",\"I\",\"O\",\"U\"]\n",
    "        s = list(s)\n",
    "        def rev(left,right):\n",
    "            if left<right:\n",
    "                if s[left] in vovels:\n",
    "                    if s[right] in vovels:\n",
    "                        s[left],s[right]= s[right],s[left]\n",
    "                        rev(left+1,right-1)\n",
    "                    else:\n",
    "                        rev(left,right-1)\n",
    "                else:\n",
    "                    rev(left+1,right)\n",
    "            else:\n",
    "                return s\n",
    "\n",
    "        rev(0,len(s)-1)\n",
    "        return \"\".join(s)"
   ],
   "metadata": {
    "collapsed": false,
    "pycharm": {
     "name": "#%%\n"
    }
   }
  },
  {
   "cell_type": "code",
   "execution_count": 6,
   "outputs": [
    {
     "name": "stdout",
     "output_type": "stream",
     "text": [
      "testemail\n"
     ]
    }
   ],
   "source": [
    "class Solution:\n",
    "    def numUniqueEmails(self, emails: List[str]) -> int:\n",
    "\n",
    "        uniqueset = set()\n",
    "\n",
    "        for email in emails:\n",
    "            a = email.split(\"@\")\n",
    "            localname,domain = a[0],a[1]\n",
    "            local_name_without_plus = localname.split(\"+\")[0]\n",
    "\n",
    "            if \".\" in local_name_without_plus:\n",
    "                uniqueset.add(local_name_without_plus.replace(\".\",\"\")+\"@\"+domain)\n",
    "\n",
    "            else:\n",
    "                uniqueset.add(local_name_without_plus\n",
    "                              +\"@\"+domain)\n",
    "        # print(set(unique))\n",
    "        return(len(uniqueset))\n"
   ],
   "metadata": {
    "collapsed": false,
    "pycharm": {
     "name": "#%%\n"
    }
   }
  },
  {
   "cell_type": "code",
   "execution_count": null,
   "outputs": [],
   "source": [
    "class Solution:\n",
    "    def isValid(self, s: str) -> bool:\n",
    "        stack = []\n",
    "        i=0\n",
    "        n = len(s)\n",
    "        conjugate = {\")\":\"(\",\"}\":\"{\",\"]\":\"[\"}\n",
    "        if len(s) == 1:\n",
    "            return False\n",
    "        if len(s)%2 != 0:\n",
    "            return False\n",
    "\n",
    "        while i<n:\n",
    "            if s[i] in conjugate.values():\n",
    "                stack.append(s[i])\n",
    "\n",
    "            if len(stack)>0:\n",
    "                if s[i] in conjugate.keys():\n",
    "                    if stack[-1] ==  conjugate[s[i]]:\n",
    "                        stack.pop()\n",
    "                    else:\n",
    "                        return False\n",
    "            else:\n",
    "                return False\n",
    "            i+=1\n",
    "\n",
    "        if len(stack)==0:\n",
    "            return True\n",
    "        else:\n",
    "            return False"
   ],
   "metadata": {
    "collapsed": false,
    "pycharm": {
     "name": "#%%\n"
    }
   }
  },
  {
   "cell_type": "code",
   "execution_count": 1,
   "outputs": [
    {
     "name": "stdout",
     "output_type": "stream",
     "text": [
      "1.2\n"
     ]
    }
   ],
   "source": [
    "# Reverse linked list\n",
    "# Definition for singly-linked list.\n",
    "class ListNode:\n",
    "    def __init__(self, val=0, next=None):\n",
    "        self.val = val\n",
    "        self.next = next\n",
    "# class Solution_1:\n",
    "#     def reverseList(self, head: ListNode) -> ListNode:\n",
    "\n",
    "#         rev = []\n",
    "#         new_head = ListNode()\n",
    "#         ans = new_head\n",
    "#         while head:\n",
    "#             rev.append(head.val)\n",
    "#             head = head.next\n",
    "#         for i in range(len(rev)):\n",
    "#             newnode = ListNode(rev.pop())\n",
    "#             new_head.next = newnode\n",
    "#             new_head = new_head.next\n",
    "#         return ans.next\n",
    "\n",
    "# class Solution:\n",
    "#     def reverseList(self, head: ListNode) -> ListNode:\n",
    "\n",
    "#         prev = None\n",
    "#         curr = head\n",
    "#         while curr:\n",
    "#             nxt = curr.next\n",
    "#             curr.next = prev\n",
    "#             prev = curr\n",
    "#             curr = nxt\n",
    "\n",
    "#         return prev\n",
    "\n",
    "class Solution:\n",
    "\n",
    "\n",
    "    def reverseList(self, head: ListNode) -> ListNode:\n",
    "        if not head.next or not head:\n",
    "            return head\n",
    "        a = self.reverseList(head.next)\n",
    "        head.next.next = head\n",
    "        head.next = None\n",
    "\n",
    "\n",
    "        return a"
   ],
   "metadata": {
    "collapsed": false,
    "pycharm": {
     "name": "#%%\n"
    }
   }
  },
  {
   "cell_type": "code",
   "execution_count": null,
   "outputs": [],
   "source": [
    "    def deleteNode(self, node):\n",
    "        \"\"\"\n",
    "        :type node: ListNode\n",
    "        :rtype: void Do not return anything, modify node in-place instead.\n",
    "        \"\"\"\n",
    "        node.val = node.next.val\n",
    "        node.next = node.next.next\n",
    "\n",
    "\n",
    "        return"
   ],
   "metadata": {
    "collapsed": false,
    "pycharm": {
     "name": "#%%\n"
    }
   }
  },
  {
   "cell_type": "code",
   "execution_count": 1,
   "outputs": [
    {
     "ename": "NameError",
     "evalue": "name 'ListNode' is not defined",
     "output_type": "error",
     "traceback": [
      "\u001B[0;31m---------------------------------------------------------------------------\u001B[0m",
      "\u001B[0;31mNameError\u001B[0m                                 Traceback (most recent call last)",
      "\u001B[0;32m<ipython-input-1-49a523b9bf65>\u001B[0m in \u001B[0;36m<module>\u001B[0;34m\u001B[0m\n\u001B[0;32m----> 1\u001B[0;31m \u001B[0;32mclass\u001B[0m \u001B[0mSolution\u001B[0m\u001B[0;34m:\u001B[0m\u001B[0;34m\u001B[0m\u001B[0;34m\u001B[0m\u001B[0m\n\u001B[0m\u001B[1;32m      2\u001B[0m     \u001B[0;32mdef\u001B[0m \u001B[0mremoveElements\u001B[0m\u001B[0;34m(\u001B[0m\u001B[0mself\u001B[0m\u001B[0;34m,\u001B[0m \u001B[0mhead\u001B[0m\u001B[0;34m:\u001B[0m \u001B[0mListNode\u001B[0m\u001B[0;34m,\u001B[0m \u001B[0mval\u001B[0m\u001B[0;34m:\u001B[0m \u001B[0mint\u001B[0m\u001B[0;34m)\u001B[0m \u001B[0;34m->\u001B[0m \u001B[0mListNode\u001B[0m\u001B[0;34m:\u001B[0m\u001B[0;34m\u001B[0m\u001B[0;34m\u001B[0m\u001B[0m\n\u001B[1;32m      3\u001B[0m \u001B[0;34m\u001B[0m\u001B[0m\n\u001B[1;32m      4\u001B[0m         \u001B[0mprev\u001B[0m \u001B[0;34m=\u001B[0m\u001B[0mhead_node\u001B[0m\u001B[0;34m=\u001B[0m \u001B[0mListNode\u001B[0m\u001B[0;34m(\u001B[0m\u001B[0;34m\"#\"\u001B[0m\u001B[0;34m)\u001B[0m\u001B[0;34m\u001B[0m\u001B[0;34m\u001B[0m\u001B[0m\n\u001B[1;32m      5\u001B[0m         \u001B[0mhead_node\u001B[0m\u001B[0;34m.\u001B[0m\u001B[0mnext\u001B[0m \u001B[0;34m=\u001B[0m \u001B[0mhead\u001B[0m\u001B[0;34m\u001B[0m\u001B[0;34m\u001B[0m\u001B[0m\n",
      "\u001B[0;32m<ipython-input-1-49a523b9bf65>\u001B[0m in \u001B[0;36mSolution\u001B[0;34m()\u001B[0m\n\u001B[1;32m      1\u001B[0m \u001B[0;32mclass\u001B[0m \u001B[0mSolution\u001B[0m\u001B[0;34m:\u001B[0m\u001B[0;34m\u001B[0m\u001B[0;34m\u001B[0m\u001B[0m\n\u001B[0;32m----> 2\u001B[0;31m     \u001B[0;32mdef\u001B[0m \u001B[0mremoveElements\u001B[0m\u001B[0;34m(\u001B[0m\u001B[0mself\u001B[0m\u001B[0;34m,\u001B[0m \u001B[0mhead\u001B[0m\u001B[0;34m:\u001B[0m \u001B[0mListNode\u001B[0m\u001B[0;34m,\u001B[0m \u001B[0mval\u001B[0m\u001B[0;34m:\u001B[0m \u001B[0mint\u001B[0m\u001B[0;34m)\u001B[0m \u001B[0;34m->\u001B[0m \u001B[0mListNode\u001B[0m\u001B[0;34m:\u001B[0m\u001B[0;34m\u001B[0m\u001B[0;34m\u001B[0m\u001B[0m\n\u001B[0m\u001B[1;32m      3\u001B[0m \u001B[0;34m\u001B[0m\u001B[0m\n\u001B[1;32m      4\u001B[0m         \u001B[0mprev\u001B[0m \u001B[0;34m=\u001B[0m\u001B[0mhead_node\u001B[0m\u001B[0;34m=\u001B[0m \u001B[0mListNode\u001B[0m\u001B[0;34m(\u001B[0m\u001B[0;34m\"#\"\u001B[0m\u001B[0;34m)\u001B[0m\u001B[0;34m\u001B[0m\u001B[0;34m\u001B[0m\u001B[0m\n\u001B[1;32m      5\u001B[0m         \u001B[0mhead_node\u001B[0m\u001B[0;34m.\u001B[0m\u001B[0mnext\u001B[0m \u001B[0;34m=\u001B[0m \u001B[0mhead\u001B[0m\u001B[0;34m\u001B[0m\u001B[0;34m\u001B[0m\u001B[0m\n",
      "\u001B[0;31mNameError\u001B[0m: name 'ListNode' is not defined"
     ]
    }
   ],
   "source": [
    "class Solution:\n",
    "    def removeElements(self, head: ListNode, val: int) -> ListNode:\n",
    "\n",
    "        prev =head_node= ListNode(\"#\")\n",
    "        head_node.next = head\n",
    "        prev.next = head\n",
    "\n",
    "        while prev.next:\n",
    "\n",
    "            if prev.next.val == val:\n",
    "                prev.next = prev.next.next\n",
    "            else:\n",
    "                prev = prev.next\n",
    "\n",
    "        return head_node.next"
   ],
   "metadata": {
    "collapsed": false,
    "pycharm": {
     "name": "#%%\n"
    }
   }
  },
  {
   "cell_type": "code",
   "execution_count": null,
   "outputs": [],
   "source": [
    "class Solution:\n",
    "    def isSameTree(self, p: TreeNode, q: TreeNode) -> bool:\n",
    "\n",
    "        if not p or not q:\n",
    "            return p == q\n",
    "\n",
    "        def helper(leftnode,rightnode):\n",
    "\n",
    "            if not leftnode or not rightnode:\n",
    "                return leftnode==rightnode\n",
    "            if leftnode.val!=rightnode.val:\n",
    "                return False\n",
    "\n",
    "            return helper(leftnode.left,rightnode.left) and         helper(leftnode.right,rightnode.right)\n",
    "\n",
    "        return helper(p,q)"
   ],
   "metadata": {
    "collapsed": false,
    "pycharm": {
     "name": "#%%\n"
    }
   }
  },
  {
   "cell_type": "code",
   "execution_count": null,
   "outputs": [],
   "source": [
    "# Multiply strings\n",
    "\n",
    "class Solution:\n",
    "    def multiply(self, num1: str, num2: str) -> str:\n",
    "\n",
    "\n",
    "        ascii_a =[ord(i)-48 for i in num1]\n",
    "        ascii_b =[ord(i)-48 for i in num2]\n",
    "\n",
    "        a = 0\n",
    "        for i in range(len(ascii_a)):\n",
    "            a+= ascii_a[len(ascii_a)-i-1] * 10**i\n",
    "\n",
    "        b = 0\n",
    "        for i in range(len(ascii_b)):\n",
    "            b+= ascii_b[len(ascii_b)-i-1] * 10**i\n",
    "\n",
    "        return(str(a*b))"
   ],
   "metadata": {
    "collapsed": false,
    "pycharm": {
     "name": "#%%\n"
    }
   }
  },
  {
   "cell_type": "code",
   "execution_count": null,
   "outputs": [],
   "source": [
    "# 11. Container With Most Water\n",
    "\n",
    "class Solution:\n",
    "    def maxArea(self, height: List[int]) -> int:\n",
    "\n",
    "        max_ar = 0\n",
    "        i = 0\n",
    "        j = len(height)-1\n",
    "\n",
    "        while i<j:\n",
    "\n",
    "            if height[i]<height[j]:\n",
    "                y = height[i]\n",
    "                max_val = y*(j-i)\n",
    "                i+=1\n",
    "            else:\n",
    "                y = height[j]\n",
    "                max_val = y*(j-i)\n",
    "                j-=1\n",
    "            if max_val>max_ar:\n",
    "                max_ar = max_val\n",
    "        return max_ar"
   ],
   "metadata": {
    "collapsed": false,
    "pycharm": {
     "name": "#%%\n"
    }
   }
  },
  {
   "cell_type": "code",
   "execution_count": null,
   "outputs": [],
   "source": [
    "class Solution:\n",
    "    def isPalindrome_(self, x: int) -> bool:\n",
    "        if str(x)==str(x)[::-1]:\n",
    "            return True\n",
    "        else:\n",
    "            return False\n",
    "\n",
    "    def isPalindrome(self, x: int) -> bool:\n",
    "        if x<0:\n",
    "            return False\n",
    "\n",
    "        if x == self.rev(x):\n",
    "            return True\n",
    "        else:\n",
    "            return False\n",
    "\n",
    "\n",
    "\n",
    "    def rev(self,num):\n",
    "        res = 0\n",
    "        while num:\n",
    "            res = res * 10 + num % 10\n",
    "            num //= 10\n",
    "        return res"
   ],
   "metadata": {
    "collapsed": false,
    "pycharm": {
     "name": "#%%\n"
    }
   }
  },
  {
   "cell_type": "code",
   "execution_count": null,
   "outputs": [],
   "source": [
    "class Solution:\n",
    "    def findKthLargest(self, nums: List[int], k: int) -> int:\n",
    "        return heapq.nlargest(k, nums)[-1]"
   ],
   "metadata": {
    "collapsed": false,
    "pycharm": {
     "name": "#%%\n"
    }
   }
  },
  {
   "cell_type": "code",
   "execution_count": null,
   "outputs": [],
   "source": [
    "class Solution:\n",
    "    def topKFrequent(self, nums: List[int], k: int) -> List[int]:\n",
    "        a = dict(collections.Counter(nums))\n",
    "        tuple_list = [(a[i],i) for i in a.keys()]\n",
    "        return [items[1] for items in heapq.nlargest(k,tuple_list)[:k]]"
   ],
   "metadata": {
    "collapsed": false,
    "pycharm": {
     "name": "#%%\n"
    }
   }
  },
  {
   "cell_type": "code",
   "execution_count": 1,
   "outputs": [
    {
     "ename": "NameError",
     "evalue": "name 'ListNode' is not defined",
     "output_type": "error",
     "traceback": [
      "\u001B[0;31m---------------------------------------------------------------------------\u001B[0m",
      "\u001B[0;31mNameError\u001B[0m                                 Traceback (most recent call last)",
      "\u001B[0;32m<ipython-input-1-31d3ff889f26>\u001B[0m in \u001B[0;36m<module>\u001B[0;34m\u001B[0m\n\u001B[0;32m----> 1\u001B[0;31m \u001B[0;32mclass\u001B[0m \u001B[0mSolution\u001B[0m\u001B[0;34m:\u001B[0m\u001B[0;34m\u001B[0m\u001B[0;34m\u001B[0m\u001B[0m\n\u001B[0m\u001B[1;32m      2\u001B[0m     \u001B[0;32mdef\u001B[0m \u001B[0mpartition\u001B[0m\u001B[0;34m(\u001B[0m\u001B[0mself\u001B[0m\u001B[0;34m,\u001B[0m \u001B[0mhead\u001B[0m\u001B[0;34m:\u001B[0m \u001B[0mListNode\u001B[0m\u001B[0;34m,\u001B[0m \u001B[0mx\u001B[0m\u001B[0;34m:\u001B[0m \u001B[0mint\u001B[0m\u001B[0;34m)\u001B[0m \u001B[0;34m->\u001B[0m \u001B[0mListNode\u001B[0m\u001B[0;34m:\u001B[0m\u001B[0;34m\u001B[0m\u001B[0;34m\u001B[0m\u001B[0m\n\u001B[1;32m      3\u001B[0m \u001B[0;34m\u001B[0m\u001B[0m\n\u001B[1;32m      4\u001B[0m         \u001B[0mbefore_list\u001B[0m \u001B[0;34m=\u001B[0m \u001B[0mListNode\u001B[0m\u001B[0;34m(\u001B[0m\u001B[0;36m0\u001B[0m\u001B[0;34m)\u001B[0m\u001B[0;34m\u001B[0m\u001B[0;34m\u001B[0m\u001B[0m\n\u001B[1;32m      5\u001B[0m         \u001B[0mstart\u001B[0m \u001B[0;34m=\u001B[0m \u001B[0mbefore_list\u001B[0m\u001B[0;34m\u001B[0m\u001B[0;34m\u001B[0m\u001B[0m\n",
      "\u001B[0;32m<ipython-input-1-31d3ff889f26>\u001B[0m in \u001B[0;36mSolution\u001B[0;34m()\u001B[0m\n\u001B[1;32m      1\u001B[0m \u001B[0;32mclass\u001B[0m \u001B[0mSolution\u001B[0m\u001B[0;34m:\u001B[0m\u001B[0;34m\u001B[0m\u001B[0;34m\u001B[0m\u001B[0m\n\u001B[0;32m----> 2\u001B[0;31m     \u001B[0;32mdef\u001B[0m \u001B[0mpartition\u001B[0m\u001B[0;34m(\u001B[0m\u001B[0mself\u001B[0m\u001B[0;34m,\u001B[0m \u001B[0mhead\u001B[0m\u001B[0;34m:\u001B[0m \u001B[0mListNode\u001B[0m\u001B[0;34m,\u001B[0m \u001B[0mx\u001B[0m\u001B[0;34m:\u001B[0m \u001B[0mint\u001B[0m\u001B[0;34m)\u001B[0m \u001B[0;34m->\u001B[0m \u001B[0mListNode\u001B[0m\u001B[0;34m:\u001B[0m\u001B[0;34m\u001B[0m\u001B[0;34m\u001B[0m\u001B[0m\n\u001B[0m\u001B[1;32m      3\u001B[0m \u001B[0;34m\u001B[0m\u001B[0m\n\u001B[1;32m      4\u001B[0m         \u001B[0mbefore_list\u001B[0m \u001B[0;34m=\u001B[0m \u001B[0mListNode\u001B[0m\u001B[0;34m(\u001B[0m\u001B[0;36m0\u001B[0m\u001B[0;34m)\u001B[0m\u001B[0;34m\u001B[0m\u001B[0;34m\u001B[0m\u001B[0m\n\u001B[1;32m      5\u001B[0m         \u001B[0mstart\u001B[0m \u001B[0;34m=\u001B[0m \u001B[0mbefore_list\u001B[0m\u001B[0;34m\u001B[0m\u001B[0;34m\u001B[0m\u001B[0m\n",
      "\u001B[0;31mNameError\u001B[0m: name 'ListNode' is not defined"
     ]
    }
   ],
   "source": [
    "class Solution:\n",
    "    def partition(self, head: ListNode, x: int) -> ListNode:\n",
    "\n",
    "        before_list = ListNode(0)\n",
    "        start = before_list\n",
    "        after_list = ListNode(0)\n",
    "        aft_point = after_list\n",
    "\n",
    "        while head:\n",
    "\n",
    "            if head.val<x:\n",
    "                before_list.next = ListNode(head.val)\n",
    "                before_list = before_list.next\n",
    "\n",
    "            else:\n",
    "                after_list.next = ListNode(head.val)\n",
    "                after_list = after_list.next\n",
    "\n",
    "            head = head.next\n",
    "\n",
    "\n",
    "        before_list.next = aft_point.next\n",
    "\n",
    "        return start.next"
   ],
   "metadata": {
    "collapsed": false,
    "pycharm": {
     "name": "#%%\n"
    }
   }
  },
  {
   "cell_type": "code",
   "execution_count": null,
   "outputs": [],
   "source": [
    "## dutch flag problem\n",
    "    def sortColors(self, nums: List[int]) -> None:\n",
    "        \"\"\"\n",
    "        Do not return anything, modify nums in-place instead.\n",
    "\n",
    "        \"\"\"\n",
    "\n",
    "        i = curr = 0\n",
    "        end = len(nums)-1\n",
    "\n",
    "        while curr<=end:\n",
    "\n",
    "            if nums[curr]==0:\n",
    "\n",
    "                nums[i],nums[curr] = nums[curr],nums[i]\n",
    "                curr+=1\n",
    "                i+=1\n",
    "            elif  nums[curr]==2:\n",
    "                nums[curr],nums[end]= nums[end],nums[curr]\n",
    "                end-=1\n",
    "            else:\n",
    "                curr+=1"
   ],
   "metadata": {
    "collapsed": false,
    "pycharm": {
     "name": "#%%\n"
    }
   }
  },
  {
   "cell_type": "code",
   "execution_count": 3,
   "outputs": [
    {
     "name": "stdout",
     "output_type": "stream",
     "text": [
      "1.0\n",
      "1.5\n",
      "2.0\n",
      "3.0\n"
     ]
    }
   ],
   "source": [
    "class MovingAverage:\n",
    "    def __init__(self, size):\n",
    "        self.size = size\n",
    "        self.queue = []\n",
    "\n",
    "    def moving_avg(self, val):\n",
    "        if not self.queue or len(self.queue) < self.size:\n",
    "            self.queue.append(val)\n",
    "        else:\n",
    "            self.queue.pop(0)\n",
    "            self.queue.append(val)\n",
    "        return float(sum(self.queue)) / len(self.queue)\n",
    "\n",
    "\n",
    "ma = MovingAverage(3)\n",
    "print(ma.moving_avg(1))\n",
    "print(ma.moving_avg(2))\n",
    "print(ma.moving_avg(3))\n",
    "print(ma.moving_avg(4))"
   ],
   "metadata": {
    "collapsed": false,
    "pycharm": {
     "name": "#%%\n"
    }
   }
  },
  {
   "cell_type": "code",
   "execution_count": null,
   "outputs": [],
   "source": [
    "#for revision\n",
    "#Basic dp\n",
    "class Solution:\n",
    "    def minPathSum(self, grid: List[List[int]]) -> int:\n",
    "        m = len(grid)\n",
    "        n = len(grid[0])\n",
    "\n",
    "\n",
    "        # set columns values for first row\n",
    "        for i in range(1,n):\n",
    "            grid[0][i] = grid[0][i]+grid[0][i-1]\n",
    "\n",
    "        #set row values for first column\n",
    "        for j in range(1,m):\n",
    "            grid[j][0] = grid[j][0] + grid[j-1][0]\n",
    "\n",
    "        #calc min values from 1,1\n",
    "        for i in range(1,m):\n",
    "            for j in range(1,n):\n",
    "                grid[i][j] = min(grid[i-1][j],grid[i][j-1]) + grid[i][j]\n",
    "\n",
    "        return grid[-1][-1]\n",
    "\n",
    "class Solution:\n",
    "    def uniquePaths(self, m: int, n: int) -> int:\n",
    "        dist = []\n",
    "        for j in range(m):\n",
    "            dist.append( [1]*n)\n",
    "\n",
    "        for i in range(1,m):\n",
    "            for j in range(1,n):\n",
    "                dist[i][j] = dist[i-1][j] + dist[i][j-1]\n",
    "        return dist[-1][-1]"
   ],
   "metadata": {
    "collapsed": false,
    "pycharm": {
     "name": "#%%\n"
    }
   }
  },
  {
   "cell_type": "code",
   "execution_count": 8,
   "outputs": [
    {
     "name": "stdout",
     "output_type": "stream",
     "text": [
      "True\n",
      "True\n"
     ]
    }
   ],
   "source": [
    "a = {\"a\":1,\"b\":2}\n",
    "b = {\"a\":1,\"b\":2}\n",
    "print(a==b)\n",
    "from collections import Counter\n",
    "\n",
    "cnt = Counter(\"eat\")\n",
    "cnt2 = Counter(\"tea\")\n",
    "print(cnt==cnt2)"
   ],
   "metadata": {
    "collapsed": false,
    "pycharm": {
     "name": "#%%\n"
    }
   }
  },
  {
   "cell_type": "code",
   "execution_count": 12,
   "outputs": [
    {
     "ename": "NameError",
     "evalue": "name 'List' is not defined",
     "output_type": "error",
     "traceback": [
      "\u001B[0;31m---------------------------------------------------------------------------\u001B[0m",
      "\u001B[0;31mNameError\u001B[0m                                 Traceback (most recent call last)",
      "\u001B[0;32m<ipython-input-12-5205a24b1020>\u001B[0m in \u001B[0;36m<module>\u001B[0;34m\u001B[0m\n\u001B[0;32m----> 1\u001B[0;31m \u001B[0;32mclass\u001B[0m \u001B[0mSolution\u001B[0m\u001B[0;34m:\u001B[0m\u001B[0;34m\u001B[0m\u001B[0;34m\u001B[0m\u001B[0m\n\u001B[0m\u001B[1;32m      2\u001B[0m     \u001B[0;32mdef\u001B[0m \u001B[0mgroupAnagrams\u001B[0m\u001B[0;34m(\u001B[0m\u001B[0mself\u001B[0m\u001B[0;34m,\u001B[0m \u001B[0mstrs\u001B[0m\u001B[0;34m:\u001B[0m \u001B[0mList\u001B[0m\u001B[0;34m[\u001B[0m\u001B[0mstr\u001B[0m\u001B[0;34m]\u001B[0m\u001B[0;34m)\u001B[0m \u001B[0;34m->\u001B[0m \u001B[0mList\u001B[0m\u001B[0;34m[\u001B[0m\u001B[0mList\u001B[0m\u001B[0;34m[\u001B[0m\u001B[0mstr\u001B[0m\u001B[0;34m]\u001B[0m\u001B[0;34m]\u001B[0m\u001B[0;34m:\u001B[0m\u001B[0;34m\u001B[0m\u001B[0;34m\u001B[0m\u001B[0m\n\u001B[1;32m      3\u001B[0m         \u001B[0mcount_dicts\u001B[0m \u001B[0;34m=\u001B[0m \u001B[0;34m{\u001B[0m\u001B[0;34m}\u001B[0m\u001B[0;34m\u001B[0m\u001B[0;34m\u001B[0m\u001B[0m\n\u001B[1;32m      4\u001B[0m         \u001B[0;32mfor\u001B[0m \u001B[0mwords\u001B[0m \u001B[0;32min\u001B[0m \u001B[0mstrs\u001B[0m\u001B[0;34m:\u001B[0m\u001B[0;34m\u001B[0m\u001B[0;34m\u001B[0m\u001B[0m\n\u001B[1;32m      5\u001B[0m             \u001B[0;32mif\u001B[0m \u001B[0mtuple\u001B[0m\u001B[0;34m(\u001B[0m\u001B[0;34m\"\"\u001B[0m\u001B[0;34m.\u001B[0m\u001B[0mjoin\u001B[0m\u001B[0;34m(\u001B[0m\u001B[0msorted\u001B[0m\u001B[0;34m(\u001B[0m\u001B[0mwords\u001B[0m\u001B[0;34m)\u001B[0m\u001B[0;34m)\u001B[0m\u001B[0;34m)\u001B[0m \u001B[0;32mnot\u001B[0m \u001B[0;32min\u001B[0m \u001B[0mcount_dicts\u001B[0m\u001B[0;34m:\u001B[0m\u001B[0;34m\u001B[0m\u001B[0;34m\u001B[0m\u001B[0m\n",
      "\u001B[0;32m<ipython-input-12-5205a24b1020>\u001B[0m in \u001B[0;36mSolution\u001B[0;34m()\u001B[0m\n\u001B[1;32m      1\u001B[0m \u001B[0;32mclass\u001B[0m \u001B[0mSolution\u001B[0m\u001B[0;34m:\u001B[0m\u001B[0;34m\u001B[0m\u001B[0;34m\u001B[0m\u001B[0m\n\u001B[0;32m----> 2\u001B[0;31m     \u001B[0;32mdef\u001B[0m \u001B[0mgroupAnagrams\u001B[0m\u001B[0;34m(\u001B[0m\u001B[0mself\u001B[0m\u001B[0;34m,\u001B[0m \u001B[0mstrs\u001B[0m\u001B[0;34m:\u001B[0m \u001B[0mList\u001B[0m\u001B[0;34m[\u001B[0m\u001B[0mstr\u001B[0m\u001B[0;34m]\u001B[0m\u001B[0;34m)\u001B[0m \u001B[0;34m->\u001B[0m \u001B[0mList\u001B[0m\u001B[0;34m[\u001B[0m\u001B[0mList\u001B[0m\u001B[0;34m[\u001B[0m\u001B[0mstr\u001B[0m\u001B[0;34m]\u001B[0m\u001B[0;34m]\u001B[0m\u001B[0;34m:\u001B[0m\u001B[0;34m\u001B[0m\u001B[0;34m\u001B[0m\u001B[0m\n\u001B[0m\u001B[1;32m      3\u001B[0m         \u001B[0mcount_dicts\u001B[0m \u001B[0;34m=\u001B[0m \u001B[0;34m{\u001B[0m\u001B[0;34m}\u001B[0m\u001B[0;34m\u001B[0m\u001B[0;34m\u001B[0m\u001B[0m\n\u001B[1;32m      4\u001B[0m         \u001B[0;32mfor\u001B[0m \u001B[0mwords\u001B[0m \u001B[0;32min\u001B[0m \u001B[0mstrs\u001B[0m\u001B[0;34m:\u001B[0m\u001B[0;34m\u001B[0m\u001B[0;34m\u001B[0m\u001B[0m\n\u001B[1;32m      5\u001B[0m             \u001B[0;32mif\u001B[0m \u001B[0mtuple\u001B[0m\u001B[0;34m(\u001B[0m\u001B[0;34m\"\"\u001B[0m\u001B[0;34m.\u001B[0m\u001B[0mjoin\u001B[0m\u001B[0;34m(\u001B[0m\u001B[0msorted\u001B[0m\u001B[0;34m(\u001B[0m\u001B[0mwords\u001B[0m\u001B[0;34m)\u001B[0m\u001B[0;34m)\u001B[0m\u001B[0;34m)\u001B[0m \u001B[0;32mnot\u001B[0m \u001B[0;32min\u001B[0m \u001B[0mcount_dicts\u001B[0m\u001B[0;34m:\u001B[0m\u001B[0;34m\u001B[0m\u001B[0;34m\u001B[0m\u001B[0m\n",
      "\u001B[0;31mNameError\u001B[0m: name 'List' is not defined"
     ]
    }
   ],
   "source": [
    "class Solution:\n",
    "    def groupAnagrams(self, strs: List[str]) -> List[List[str]]:\n",
    "        count_dicts = {}\n",
    "        for words in strs:\n",
    "            if tuple(\"\".join(sorted(words))) not in count_dicts:\n",
    "                count_dicts.update({tuple(\"\".join(sorted(words))):[words]})\n",
    "            else:\n",
    "                # print(tuple(\"\".join(sorted(words))),count_dicts)\n",
    "                new_dict = count_dicts[tuple(\"\".join(sorted(words)))]\n",
    "                new_dict.append(words)\n",
    "\n",
    "                # print(tuple(\"\".join(sorted(words))),new_dict)\n",
    "                count_dicts.update({tuple(\"\".join(sorted(words))):new_dict})\n",
    "\n",
    "        return(count_dicts.values())\n",
    "\n",
    "### use of defaultdict\n",
    "# class Solution(object):\n",
    "#     def groupAnagrams(self, strs):\n",
    "#         ans = collections.defaultdict(list)\n",
    "#         for s in strs:\n",
    "#             ans[tuple(sorted(s))].append(s)\n",
    "#         return ans.values()"
   ],
   "metadata": {
    "collapsed": false,
    "pycharm": {
     "name": "#%%\n"
    }
   }
  },
  {
   "cell_type": "code",
   "execution_count": 17,
   "outputs": [
    {
     "data": {
      "text/plain": "248"
     },
     "execution_count": 17,
     "metadata": {},
     "output_type": "execute_result"
    }
   ],
   "source": [
    "class Solution:\n",
    "    def maxProduct(self, nums: List[int]) -> int:\n",
    "\n",
    "        min_val = max_val = super_max = nums[0]\n",
    "\n",
    "        if len(nums)==1:\n",
    "            return nums[0]\n",
    "\n",
    "        for i in nums[1:]:\n",
    "            min_val ,max_val= min(i,min_val*i,max_val*i) , max(i,min_val*i,max_val*i)\n",
    "            super_max = max(max_val,super_max)\n",
    "\n",
    "        return super_max"
   ],
   "metadata": {
    "collapsed": false,
    "pycharm": {
     "name": "#%%\n"
    }
   }
  },
  {
   "cell_type": "code",
   "execution_count": 26,
   "outputs": [
    {
     "ename": "NameError",
     "evalue": "name 'ListNode' is not defined",
     "output_type": "error",
     "traceback": [
      "\u001B[0;31m---------------------------------------------------------------------------\u001B[0m",
      "\u001B[0;31mNameError\u001B[0m                                 Traceback (most recent call last)",
      "\u001B[0;32m<ipython-input-26-610d1d5e0ac6>\u001B[0m in \u001B[0;36m<module>\u001B[0;34m\u001B[0m\n\u001B[0;32m----> 1\u001B[0;31m \u001B[0;32mclass\u001B[0m \u001B[0mSolution\u001B[0m\u001B[0;34m:\u001B[0m\u001B[0;34m\u001B[0m\u001B[0;34m\u001B[0m\u001B[0m\n\u001B[0m\u001B[1;32m      2\u001B[0m     \u001B[0;32mdef\u001B[0m \u001B[0mmergeTwoLists\u001B[0m\u001B[0;34m(\u001B[0m\u001B[0mself\u001B[0m\u001B[0;34m,\u001B[0m \u001B[0ml1\u001B[0m\u001B[0;34m:\u001B[0m \u001B[0mListNode\u001B[0m\u001B[0;34m,\u001B[0m \u001B[0ml2\u001B[0m\u001B[0;34m:\u001B[0m \u001B[0mListNode\u001B[0m\u001B[0;34m)\u001B[0m \u001B[0;34m->\u001B[0m \u001B[0mListNode\u001B[0m\u001B[0;34m:\u001B[0m\u001B[0;34m\u001B[0m\u001B[0;34m\u001B[0m\u001B[0m\n\u001B[1;32m      3\u001B[0m \u001B[0;34m\u001B[0m\u001B[0m\n\u001B[1;32m      4\u001B[0m         \u001B[0mmerged\u001B[0m \u001B[0;34m=\u001B[0m \u001B[0mstart\u001B[0m \u001B[0;34m=\u001B[0m \u001B[0mListNode\u001B[0m\u001B[0;34m(\u001B[0m\u001B[0;34m-\u001B[0m\u001B[0;36m1\u001B[0m\u001B[0;34m)\u001B[0m\u001B[0;34m\u001B[0m\u001B[0;34m\u001B[0m\u001B[0m\n\u001B[1;32m      5\u001B[0m         \u001B[0;32mwhile\u001B[0m \u001B[0ml1\u001B[0m \u001B[0;32mand\u001B[0m \u001B[0ml2\u001B[0m\u001B[0;34m:\u001B[0m\u001B[0;34m\u001B[0m\u001B[0;34m\u001B[0m\u001B[0m\n",
      "\u001B[0;32m<ipython-input-26-610d1d5e0ac6>\u001B[0m in \u001B[0;36mSolution\u001B[0;34m()\u001B[0m\n\u001B[1;32m      1\u001B[0m \u001B[0;32mclass\u001B[0m \u001B[0mSolution\u001B[0m\u001B[0;34m:\u001B[0m\u001B[0;34m\u001B[0m\u001B[0;34m\u001B[0m\u001B[0m\n\u001B[0;32m----> 2\u001B[0;31m     \u001B[0;32mdef\u001B[0m \u001B[0mmergeTwoLists\u001B[0m\u001B[0;34m(\u001B[0m\u001B[0mself\u001B[0m\u001B[0;34m,\u001B[0m \u001B[0ml1\u001B[0m\u001B[0;34m:\u001B[0m \u001B[0mListNode\u001B[0m\u001B[0;34m,\u001B[0m \u001B[0ml2\u001B[0m\u001B[0;34m:\u001B[0m \u001B[0mListNode\u001B[0m\u001B[0;34m)\u001B[0m \u001B[0;34m->\u001B[0m \u001B[0mListNode\u001B[0m\u001B[0;34m:\u001B[0m\u001B[0;34m\u001B[0m\u001B[0;34m\u001B[0m\u001B[0m\n\u001B[0m\u001B[1;32m      3\u001B[0m \u001B[0;34m\u001B[0m\u001B[0m\n\u001B[1;32m      4\u001B[0m         \u001B[0mmerged\u001B[0m \u001B[0;34m=\u001B[0m \u001B[0mstart\u001B[0m \u001B[0;34m=\u001B[0m \u001B[0mListNode\u001B[0m\u001B[0;34m(\u001B[0m\u001B[0;34m-\u001B[0m\u001B[0;36m1\u001B[0m\u001B[0;34m)\u001B[0m\u001B[0;34m\u001B[0m\u001B[0;34m\u001B[0m\u001B[0m\n\u001B[1;32m      5\u001B[0m         \u001B[0;32mwhile\u001B[0m \u001B[0ml1\u001B[0m \u001B[0;32mand\u001B[0m \u001B[0ml2\u001B[0m\u001B[0;34m:\u001B[0m\u001B[0;34m\u001B[0m\u001B[0;34m\u001B[0m\u001B[0m\n",
      "\u001B[0;31mNameError\u001B[0m: name 'ListNode' is not defined"
     ]
    }
   ],
   "source": [
    "class Solution:\n",
    "    def mergeTwoLists(self, l1: ListNode, l2: ListNode) -> ListNode:\n",
    "\n",
    "        merged = start = ListNode(-1)\n",
    "        while l1 and l2:\n",
    "            if l1.val<=l2.val:\n",
    "                merged.next = l1\n",
    "                l1 = l1.next\n",
    "\n",
    "            else:\n",
    "                merged.next = l2\n",
    "                l2 = l2.next\n",
    "            merged = merged.next\n",
    "\n",
    "        merged.next = l1 or l2\n",
    "\n",
    "\n",
    "\n",
    "        return start.next\n"
   ],
   "metadata": {
    "collapsed": false,
    "pycharm": {
     "name": "#%%\n"
    }
   }
  },
  {
   "cell_type": "code",
   "execution_count": 6,
   "outputs": [
    {
     "data": {
      "text/plain": "3"
     },
     "execution_count": 6,
     "metadata": {},
     "output_type": "execute_result"
    }
   ],
   "source": [
    "def singleNumber2( nums):\n",
    "    res = 0\n",
    "    for num in nums:\n",
    "        res ^= num\n",
    "    return res\n",
    "singleNumber2([1,1,1,2])\n"
   ],
   "metadata": {
    "collapsed": false,
    "pycharm": {
     "name": "#%%\n"
    }
   }
  },
  {
   "cell_type": "code",
   "execution_count": null,
   "outputs": [],
   "source": [
    "class Solution:\n",
    "    def invertTree(self, root: TreeNode) -> TreeNode:\n",
    "        if root==None:\n",
    "            return None\n",
    "\n",
    "        root.left ,root.right = root.right,root.left\n",
    "        self.invertTree(root.left)\n",
    "        self.invertTree(root.right)\n",
    "        return root"
   ],
   "metadata": {
    "collapsed": false,
    "pycharm": {
     "name": "#%%\n"
    }
   }
  },
  {
   "cell_type": "code",
   "execution_count": null,
   "outputs": [],
   "source": [],
   "metadata": {
    "collapsed": false,
    "pycharm": {
     "name": "#%%\n"
    }
   }
  }
 ],
 "metadata": {
  "kernelspec": {
   "display_name": "Python 3",
   "language": "python",
   "name": "python3"
  },
  "language_info": {
   "codemirror_mode": {
    "name": "ipython",
    "version": 2
   },
   "file_extension": ".py",
   "mimetype": "text/x-python",
   "name": "python",
   "nbconvert_exporter": "python",
   "pygments_lexer": "ipython2",
   "version": "2.7.6"
  }
 },
 "nbformat": 4,
 "nbformat_minor": 0
}